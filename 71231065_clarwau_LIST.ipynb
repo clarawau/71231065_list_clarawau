{
 "cells": [
  {
   "cell_type": "code",
   "execution_count": 28,
   "id": "7483c521",
   "metadata": {},
   "outputs": [
    {
     "name": "stdout",
     "output_type": "stream",
     "text": [
      "masukan masukan angka (ketik sudah untuk berhenti) : 12\n",
      "masukan masukan angka (ketik sudah untuk berhenti) : sudah\n",
      "anda harus memasukan setidaknya tiga angka\n",
      "masukan masukan angka (ketik sudah untuk berhenti) : 23\n",
      "masukan masukan angka (ketik sudah untuk berhenti) : 34\n",
      "masukan masukan angka (ketik sudah untuk berhenti) : 50\n",
      "masukan masukan angka (ketik sudah untuk berhenti) : 34\n",
      "masukan masukan angka (ketik sudah untuk berhenti) : 5\n",
      "masukan masukan angka (ketik sudah untuk berhenti) : 4\n",
      "masukan masukan angka (ketik sudah untuk berhenti) : 3\n",
      "masukan masukan angka (ketik sudah untuk berhenti) : sudah\n",
      "tiga nilai terbaik :  [50, 34, 34]\n"
     ]
    }
   ],
   "source": [
    "angka = []\n",
    "while True :\n",
    "    input_angka = input(\"masukan masukan angka (ketik sudah untuk berhenti) : \")\n",
    "    if input_angka.lower() == \"sudah\":\n",
    "        if len(angka) < 3:\n",
    "            print(\"anda harus memasukan setidaknya tiga angka\")\n",
    "            continue\n",
    "        else:\n",
    "            break\n",
    "    elif input_angka.isdigit():\n",
    "        angka.append(int(input_angka))\n",
    "    else :\n",
    "        print(\"anda harus menginput angka\")\n",
    "angka.sort(reverse=True)\n",
    "print (\"tiga nilai terbaik : \", angka[:3])\n",
    "    \n"
   ]
  },
  {
   "cell_type": "code",
   "execution_count": 32,
   "id": "60a8b072",
   "metadata": {},
   "outputs": [
    {
     "name": "stdout",
     "output_type": "stream",
     "text": [
      "masukan masukan angka (ketik done untuk berhenti) : 12\n",
      "masukan masukan angka (ketik done untuk berhenti) : 34\n",
      "masukan masukan angka (ketik done untuk berhenti) : 56\n",
      "masukan masukan angka (ketik done untuk berhenti) : 7\n",
      "masukan masukan angka (ketik done untuk berhenti) : 6\n",
      "masukan masukan angka (ketik done untuk berhenti) : done\n",
      "maksimal nya yaitu  56\n",
      "minimal nya yaitu  6\n"
     ]
    }
   ],
   "source": [
    "angka = []\n",
    "while True :\n",
    "    input_angka = input(\"masukan masukan angka (ketik done untuk berhenti) : \")\n",
    "    if input_angka.lower() == \"done\":\n",
    "        break\n",
    "        angka.append(int(input_angka))\n",
    "    elif input_angka.isdigit():\n",
    "        angka.append(int(input_angka))\n",
    "    else :\n",
    "        print(\"anda harus menginput angka\")\n",
    "print(\"maksimal nya yaitu \", max(angka))\n",
    "print(\"minimal nya yaitu \", min(angka))\n",
    "\n",
    "    "
   ]
  },
  {
   "cell_type": "code",
   "execution_count": 38,
   "id": "f20e72bf",
   "metadata": {},
   "outputs": [
    {
     "name": "stdout",
     "output_type": "stream",
     "text": [
      "=====ISI BERITA=====\n",
      "Tim nasional sepak bola U-23 Indonesia berhasil mengukir sejarah dengan masuk babak semifinal Piala Asia dan berpeluang lolos ke Olimpiade untuk pertama kalinya dalam 68 tahun. Para \"Garuda Muda\" diharapkan tetap membumi, sehingga mereka bisa memiliki karier panjang dan terus berprestasi\n",
      "=====KATA UNIK PADA BERITA=====\n",
      "['Tim', 'nasional', 'sepak', 'bola', 'U-23', 'Indonesia', 'berhasil', 'mengukir', 'sejarah', 'dengan', 'masuk', 'babak', 'semifinal', 'Piala', 'Asia', 'dan', 'berpeluang', 'lolos', 'ke', 'Olimpiade', 'untuk', 'pertama', 'kalinya', 'dalam', '68', 'tahun.', 'Para', '\"Garuda', 'Muda\"', 'diharapkan', 'tetap', 'membumi,', 'sehingga', 'mereka', 'bisa', 'memiliki', 'karier', 'panjang', 'dan', 'terus', 'berprestasi']\n"
     ]
    }
   ],
   "source": [
    "buka = open('motivasi.txt')\n",
    "print(\"=====ISI BERITA=====\")\n",
    "kata = []\n",
    "for i in buka :\n",
    "    i = i.strip()\n",
    "    print(i)\n",
    "    i = i.split(' ')\n",
    "    kata.extend(i)\n",
    "    \n",
    "print (\"=====KATA UNIK PADA BERITA=====\")\n",
    "print(kata)\n",
    "\n",
    "buka.close()"
   ]
  },
  {
   "cell_type": "code",
   "execution_count": null,
   "id": "f88b132b",
   "metadata": {},
   "outputs": [],
   "source": []
  },
  {
   "cell_type": "code",
   "execution_count": null,
   "id": "33a5332c",
   "metadata": {},
   "outputs": [],
   "source": []
  }
 ],
 "metadata": {
  "kernelspec": {
   "display_name": "Python 3 (ipykernel)",
   "language": "python",
   "name": "python3"
  },
  "language_info": {
   "codemirror_mode": {
    "name": "ipython",
    "version": 3
   },
   "file_extension": ".py",
   "mimetype": "text/x-python",
   "name": "python",
   "nbconvert_exporter": "python",
   "pygments_lexer": "ipython3",
   "version": "3.11.5"
  }
 },
 "nbformat": 4,
 "nbformat_minor": 5
}
